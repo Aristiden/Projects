{
 "cells": [
  {
   "cell_type": "code",
   "execution_count": null,
   "metadata": {
    "scrolled": true
   },
   "outputs": [],
   "source": [
    "from qiskit import QuantumCircuit, execute, Aer, transpile, QuantumRegister, ClassicalRegister\n",
    "from qiskit.circuit.library import CSwapGate\n",
    "import numpy as np\n",
    "from qiskit.providers.aer import QasmSimulator\n",
    "import matplotlib.pyplot as plt\n",
    "import fnmatch\n",
    "\n",
    "from qiskit.providers.aer.noise import NoiseModel\n",
    "from qiskit.providers.aer.noise.errors import pauli_error, depolarizing_error"
   ]
  },
  {
   "cell_type": "markdown",
   "metadata": {},
   "source": [
    "#### Define the error model"
   ]
  },
  {
   "cell_type": "code",
   "execution_count": null,
   "metadata": {},
   "outputs": [],
   "source": [
    "from qiskit import"
   ]
  },
  {
   "cell_type": "code",
   "execution_count": null,
   "metadata": {},
   "outputs": [],
   "source": [
    "qiskit.__version__"
   ]
  },
  {
   "cell_type": "code",
   "execution_count": null,
   "metadata": {},
   "outputs": [],
   "source": [
    "def get_noise(p_meas, p_gate):\n",
    "    error_meas = pauli_error([('X', p_meas), ('I', 1 - p_meas)])\n",
    "    error_gate1 = depolarizing_error(p_gate, 1)\n",
    "    error_gate2 = error_gate1.tensor(error_gate1)\n",
    "\n",
    "    noise_model = NoiseModel()\n",
    "    #noise_model.add_all_qubit_quantum_error(error_meas, \"measure\")\n",
    "    #noise_model.add_all_qubit_quantum_error(error_gate1, [\"x\"])\n",
    "    noise_model.add_all_qubit_quantum_error(error_gate2, [\"cx\"])\n",
    "\n",
    "    return noise_model"
   ]
  },
  {
   "cell_type": "markdown",
   "metadata": {},
   "source": [
    "#### Amplitudes correspond to the states: $|\\phi\\rangle = A_1|00\\rangle + A_2|01\\rangle +A_3|10\\rangle + A_4|11\\rangle$"
   ]
  },
  {
   "cell_type": "code",
   "execution_count": null,
   "metadata": {},
   "outputs": [],
   "source": [
    "s0 = [1, 0, 0, 0]\n",
    "s1 = [np.sqrt(5 / 9), np.sqrt(4 / 9), 0, 0]\n",
    "s2 = [np.sqrt(5 / 9), -np.sqrt(1 / 9), 0. + 1j * np.sqrt(1 / 3), 0]\n",
    "s3 = [np.sqrt(5 / 9), -np.sqrt(1 / 9), 0. - 1j * np.sqrt(1 / 3), 0]\n",
    "initial_states = [s0, s1, s2, s3]"
   ]
  },
  {
   "cell_type": "markdown",
   "metadata": {},
   "source": [
    "#### Set up the circuit"
   ]
  },
  {
   "cell_type": "code",
   "execution_count": 8,
   "metadata": {},
   "outputs": [
    {
     "data": {
      "text/html": [
       "<pre style=\"word-wrap: normal;white-space: pre;background: #fff0;line-height: 1.1;font-family: &quot;Courier New&quot;,Courier,monospace\">                                                     ░ ┌───┐            ┌─┐   »\n",
       "anc_0: ──────────────────────────────────────────────░─┤ H ├─■──■───────┤M├───»\n",
       "                                                     ░ ├───┤ │  │       └╥┘┌─┐»\n",
       "anc_1: ──────────────────────────────────────────────░─┤ H ├─┼──┼──■──■──╫─┤M├»\n",
       "                  ┌──────────────────────┐           ░ └───┘ │  │  │  │  ║ └╥┘»\n",
       "phi_0: ───────────┤0                     ├───────────░───────X──┼──┼──┼──╫──╫─»\n",
       "                  │  initialize(1,0,0,0) │           ░       │  │  │  │  ║  ║ »\n",
       "phi_1: ───────────┤1                     ├───────────░───────┼──X──┼──┼──╫──╫─»\n",
       "            ┌─────┴──────────────────────┴─────┐     ░       │  │  │  │  ║  ║ »\n",
       "phi_2: ─────┤0                                 ├─────░───────X──┼──X──┼──╫──╫─»\n",
       "            │  initialize(0.74536,0.66667,0,0) │     ░          │  │  │  ║  ║ »\n",
       "phi_3: ─────┤1                                 ├─────░──────────X──┼──X──╫──╫─»\n",
       "        ┌───┴──────────────────────────────────┴───┐ ░             │  │  ║  ║ »\n",
       "phi_4: ─┤0                                         ├─░─────────────X──┼──╫──╫─»\n",
       "        │  initialize(0.74536,-0.33333,0.57735j,0) │ ░                │  ║  ║ »\n",
       "phi_5: ─┤1                                         ├─░────────────────X──╫──╫─»\n",
       "       ┌┴──────────────────────────────────────────┤ ░                   ║  ║ »\n",
       "phi_6: ┤0                                          ├─░───────────────────╫──╫─»\n",
       "       │  initialize(0.74536,-0.33333,-0.57735j,0) │ ░                   ║  ║ »\n",
       "phi_7: ┤1                                          ├─░───────────────────╫──╫─»\n",
       "       └───────────────────────────────────────────┘ ░                   ║  ║ »\n",
       " m: 10/══════════════════════════════════════════════════════════════════╩══╩═»\n",
       "                                                                         0  1 »\n",
       "«        ░                 ░                         \n",
       "«anc_0: ─░─────────────────░─────────────────────────\n",
       "«        ░                 ░                         \n",
       "«anc_1: ─░─────────────────░─────────────────────────\n",
       "«        ░      ┌───┐      ░ ┌─┐                     \n",
       "«phi_0: ─░───■──┤ H ├──────░─┤M├─────────────────────\n",
       "«        ░   │  └───┘┌───┐ ░ └╥┘┌─┐                  \n",
       "«phi_1: ─░───┼────■──┤ H ├─░──╫─┤M├──────────────────\n",
       "«        ░ ┌─┴─┐  │  └───┘ ░  ║ └╥┘┌─┐               \n",
       "«phi_2: ─░─┤ X ├──┼────────░──╫──╫─┤M├───────────────\n",
       "«        ░ └───┘┌─┴─┐      ░  ║  ║ └╥┘┌─┐            \n",
       "«phi_3: ─░──────┤ X ├──────░──╫──╫──╫─┤M├────────────\n",
       "«        ░      ├───┤      ░  ║  ║  ║ └╥┘┌─┐         \n",
       "«phi_4: ─░───■──┤ H ├──────░──╫──╫──╫──╫─┤M├─────────\n",
       "«        ░   │  └───┘┌───┐ ░  ║  ║  ║  ║ └╥┘┌─┐      \n",
       "«phi_5: ─░───┼────■──┤ H ├─░──╫──╫──╫──╫──╫─┤M├──────\n",
       "«        ░ ┌─┴─┐  │  └───┘ ░  ║  ║  ║  ║  ║ └╥┘┌─┐   \n",
       "«phi_6: ─░─┤ X ├──┼────────░──╫──╫──╫──╫──╫──╫─┤M├───\n",
       "«        ░ └───┘┌─┴─┐      ░  ║  ║  ║  ║  ║  ║ └╥┘┌─┐\n",
       "«phi_7: ─░──────┤ X ├──────░──╫──╫──╫──╫──╫──╫──╫─┤M├\n",
       "«        ░      └───┘      ░  ║  ║  ║  ║  ║  ║  ║ └╥┘\n",
       "« m: 10/══════════════════════╩══╩══╩══╩══╩══╩══╩══╩═\n",
       "«                             2  3  4  5  6  7  8  9 </pre>"
      ],
      "text/plain": [
       "                                                     ░ ┌───┐            ┌─┐   »\n",
       "anc_0: ──────────────────────────────────────────────░─┤ H ├─■──■───────┤M├───»\n",
       "                                                     ░ ├───┤ │  │       └╥┘┌─┐»\n",
       "anc_1: ──────────────────────────────────────────────░─┤ H ├─┼──┼──■──■──╫─┤M├»\n",
       "                  ┌──────────────────────┐           ░ └───┘ │  │  │  │  ║ └╥┘»\n",
       "phi_0: ───────────┤0                     ├───────────░───────X──┼──┼──┼──╫──╫─»\n",
       "                  │  initialize(1,0,0,0) │           ░       │  │  │  │  ║  ║ »\n",
       "phi_1: ───────────┤1                     ├───────────░───────┼──X──┼──┼──╫──╫─»\n",
       "            ┌─────┴──────────────────────┴─────┐     ░       │  │  │  │  ║  ║ »\n",
       "phi_2: ─────┤0                                 ├─────░───────X──┼──X──┼──╫──╫─»\n",
       "            │  initialize(0.74536,0.66667,0,0) │     ░          │  │  │  ║  ║ »\n",
       "phi_3: ─────┤1                                 ├─────░──────────X──┼──X──╫──╫─»\n",
       "        ┌───┴──────────────────────────────────┴───┐ ░             │  │  ║  ║ »\n",
       "phi_4: ─┤0                                         ├─░─────────────X──┼──╫──╫─»\n",
       "        │  initialize(0.74536,-0.33333,0.57735j,0) │ ░                │  ║  ║ »\n",
       "phi_5: ─┤1                                         ├─░────────────────X──╫──╫─»\n",
       "       ┌┴──────────────────────────────────────────┤ ░                   ║  ║ »\n",
       "phi_6: ┤0                                          ├─░───────────────────╫──╫─»\n",
       "       │  initialize(0.74536,-0.33333,-0.57735j,0) │ ░                   ║  ║ »\n",
       "phi_7: ┤1                                          ├─░───────────────────╫──╫─»\n",
       "       └───────────────────────────────────────────┘ ░                   ║  ║ »\n",
       " m: 10/══════════════════════════════════════════════════════════════════╩══╩═»\n",
       "                                                                         0  1 »\n",
       "«        ░                 ░                         \n",
       "«anc_0: ─░─────────────────░─────────────────────────\n",
       "«        ░                 ░                         \n",
       "«anc_1: ─░─────────────────░─────────────────────────\n",
       "«        ░      ┌───┐      ░ ┌─┐                     \n",
       "«phi_0: ─░───■──┤ H ├──────░─┤M├─────────────────────\n",
       "«        ░   │  └───┘┌───┐ ░ └╥┘┌─┐                  \n",
       "«phi_1: ─░───┼────■──┤ H ├─░──╫─┤M├──────────────────\n",
       "«        ░ ┌─┴─┐  │  └───┘ ░  ║ └╥┘┌─┐               \n",
       "«phi_2: ─░─┤ X ├──┼────────░──╫──╫─┤M├───────────────\n",
       "«        ░ └───┘┌─┴─┐      ░  ║  ║ └╥┘┌─┐            \n",
       "«phi_3: ─░──────┤ X ├──────░──╫──╫──╫─┤M├────────────\n",
       "«        ░      ├───┤      ░  ║  ║  ║ └╥┘┌─┐         \n",
       "«phi_4: ─░───■──┤ H ├──────░──╫──╫──╫──╫─┤M├─────────\n",
       "«        ░   │  └───┘┌───┐ ░  ║  ║  ║  ║ └╥┘┌─┐      \n",
       "«phi_5: ─░───┼────■──┤ H ├─░──╫──╫──╫──╫──╫─┤M├──────\n",
       "«        ░ ┌─┴─┐  │  └───┘ ░  ║  ║  ║  ║  ║ └╥┘┌─┐   \n",
       "«phi_6: ─░─┤ X ├──┼────────░──╫──╫──╫──╫──╫──╫─┤M├───\n",
       "«        ░ └───┘┌─┴─┐      ░  ║  ║  ║  ║  ║  ║ └╥┘┌─┐\n",
       "«phi_7: ─░──────┤ X ├──────░──╫──╫──╫──╫──╫──╫──╫─┤M├\n",
       "«        ░      └───┘      ░  ║  ║  ║  ║  ║  ║  ║ └╥┘\n",
       "« m: 10/══════════════════════╩══╩══╩══╩══╩══╩══╩══╩═\n",
       "«                             2  3  4  5  6  7  8  9 "
      ]
     },
     "execution_count": 8,
     "metadata": {},
     "output_type": "execute_result"
    }
   ],
   "source": [
    "# Set up the circuit\n",
    "qc = QuantumCircuit()\n",
    "anc = QuantumRegister(2, 'anc')\n",
    "states = QuantumRegister(8, 'phi')\n",
    "cr = ClassicalRegister(10, 'm')\n",
    "qc.add_register(anc, states, cr)\n",
    "\n",
    "# Set up initial states\n",
    "for i, r in enumerate(initial_states):\n",
    "    qc.initialize(r, [states[2*i], states[2*i+1]])\n",
    "\n",
    "# Add the CSWAP and measure the ancillaries\n",
    "qc.barrier()\n",
    "qc.h(anc[0])\n",
    "qc.h(anc[1])\n",
    "\n",
    "qc.fredkin(anc[0], states[0], states[2])\n",
    "qc.fredkin(anc[0], states[1], states[3])\n",
    "qc.fredkin(anc[1], states[2], states[4])\n",
    "qc.fredkin(anc[1], states[3], states[5])\n",
    "\n",
    "qc.measure(anc[0], cr[0])\n",
    "qc.measure(anc[1], cr[1])\n",
    "qc.barrier()\n",
    "\n",
    "# # Perform the two Bell measurements\n",
    "qc.cx(states[0], states[2])\n",
    "qc.cx(states[1], states[3])\n",
    "qc.cx(states[4], states[6])\n",
    "qc.cx(states[5], states[7])\n",
    "qc.h(states[0])\n",
    "qc.h(states[1])\n",
    "qc.h(states[4])\n",
    "qc.h(states[5])\n",
    "qc.barrier()\n",
    "\n",
    "for i in range(8):\n",
    "    qc.measure(states[i], cr[i+2])\n",
    "\n",
    "# Draw\n",
    "qc.draw()"
   ]
  },
  {
   "cell_type": "markdown",
   "metadata": {},
   "source": [
    "#### Define the function to run the simulation"
   ]
  },
  {
   "cell_type": "code",
   "execution_count": null,
   "metadata": {},
   "outputs": [],
   "source": [
    "def run_simulation(measurement_noise, cx_noise, shots=20000, test=False):\n",
    "    noise_model = get_noise(measurement_noise, cx_noise)\n",
    "\n",
    "    # Run simulator\n",
    "    simulator = QasmSimulator()\n",
    "    compiled_circuit = transpile(qc, simulator)\n",
    "    job = simulator.run(compiled_circuit, shots=shots, noise_model=noise_model)\n",
    "    counts = job.result().get_counts(qc)\n",
    "\n",
    "    # Print output and swap to top down ordering\n",
    "    results = {}\n",
    "    for k,v in counts.items():\n",
    "        results[k[::-1]] = v/shots\n",
    "    \n",
    "    # Store the final states we are looking for\n",
    "    antisymm = [\"0101\", \"1101\", \"1010\", \"1110\", \"0111\", \"1011\"]\n",
    "    rs = {'r12': [f\"00{a}????\" for a in antisymm],\n",
    "          'r13': [f\"01{a}????\" for a in antisymm],\n",
    "          'r14': [f\"11????{a}\" for a in antisymm],\n",
    "          'r23': [f\"11{a}????\" for a in antisymm],\n",
    "          'r24': [f\"01????{a}\" for a in antisymm],\n",
    "          'r34': [f\"00????{a}\" for a in antisymm]\n",
    "         }\n",
    "    overlaps = {}\n",
    "\n",
    "    # Compute the overlaps\n",
    "    for olap, combos in rs.items():\n",
    "        p = 0\n",
    "        for onec in combos:\n",
    "            for res in fnmatch.filter(list(results.keys()), onec):\n",
    "                p += results[res]\n",
    "        overlaps[olap] = 1-8*p\n",
    "    \n",
    "    # Check the inequalities\n",
    "    r12, r13, r14 = overlaps[\"r12\"], overlaps[\"r13\"], overlaps[\"r14\"]\n",
    "    r23, r24, r34 = overlaps[\"r23\"], overlaps[\"r24\"], overlaps[\"r34\"]\n",
    "    \n",
    "    # Print the overlaps\n",
    "    if test:\n",
    "        print(f\"r12 = {r12}\")\n",
    "        print(f\"r13 = {r13}\")\n",
    "        print(f\"r14 = {r14}\")\n",
    "        print(f\"r23 = {r23}\")\n",
    "        print(f\"r24 = {r24}\")\n",
    "        print(f\"r34 = {r34}\")\n",
    "\n",
    "    #LHS face should be less than 1\n",
    "    lhsface = r12 + r13 + r14 - r23 - r34 - r24\n",
    "    return lhsface"
   ]
  },
  {
   "cell_type": "markdown",
   "metadata": {},
   "source": [
    "#### Run a single simulation and test overlaps"
   ]
  },
  {
   "cell_type": "code",
   "execution_count": null,
   "metadata": {},
   "outputs": [],
   "source": [
    "# True overlap values\n",
    "print(\"Analytic\")\n",
    "print(f\"r12 = {np.real(np.dot(np.conjugate(s0), s1) * np.dot(np.conjugate(s1), s0))}\")\n",
    "print(f\"r13 = {np.real(np.dot(np.conjugate(s0), s2) * np.dot(np.conjugate(s2), s0))}\")\n",
    "print(f\"r14 = {np.real(np.dot(np.conjugate(s0), s3) * np.dot(np.conjugate(s3), s0))}\")\n",
    "print(f\"r23 = {np.real(np.dot(np.conjugate(s1), s2) * np.dot(np.conjugate(s2), s1))}\")\n",
    "print(f\"r24 = {np.real(np.dot(np.conjugate(s1), s3) * np.dot(np.conjugate(s3), s1))}\")\n",
    "print(f\"r34 = {np.real(np.dot(np.conjugate(s2), s3) * np.dot(np.conjugate(s3), s2))}\")\n",
    "\n",
    "print(\"Simulation\")\n",
    "ineq = run_simulation(0, 0, shots=20000, test=True)\n",
    "print(f\"\\n\\nineq = {ineq}\")"
   ]
  },
  {
   "cell_type": "markdown",
   "metadata": {},
   "source": [
    "#### Define a grid of error values and compute the coherence witness\n",
    "Equal error in X and CX gates"
   ]
  },
  {
   "cell_type": "code",
   "execution_count": null,
   "metadata": {},
   "outputs": [],
   "source": [
    "errgrid = np.arange(0, 1.001, 0.02)\n",
    "inequality = [run_simulation(err, err, shots=20000) for err in errgrid]"
   ]
  },
  {
   "cell_type": "code",
   "execution_count": null,
   "metadata": {},
   "outputs": [],
   "source": [
    "plt.plot(errgrid, inequality)\n",
    "plt.axhline(1, color='k', ls='--')\n",
    "plt.xlabel(\"CX Gate Error\")\n",
    "plt.ylabel(\"Coherence Witness\")"
   ]
  },
  {
   "cell_type": "code",
   "execution_count": null,
   "metadata": {},
   "outputs": [],
   "source": []
  },
  {
   "cell_type": "code",
   "execution_count": null,
   "metadata": {},
   "outputs": [],
   "source": []
  }
 ],
 "metadata": {
  "kernelspec": {
   "display_name": "Python 3",
   "language": "python",
   "name": "python3"
  },
  "language_info": {
   "codemirror_mode": {
    "name": "ipython",
    "version": 3
   },
   "file_extension": ".py",
   "mimetype": "text/x-python",
   "name": "python",
   "nbconvert_exporter": "python",
   "pygments_lexer": "ipython3",
   "version": "3.8.3"
  }
 },
 "nbformat": 4,
 "nbformat_minor": 5
}
